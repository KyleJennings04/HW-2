{
 "cells": [
  {
   "cell_type": "markdown",
   "metadata": {},
   "source": [
    "# Intro to Data Science - Homework 2 - Spring 2025 - Wilmington College\n",
    "## Due Date: February 21, 2025"
   ]
  },
  {
   "cell_type": "markdown",
   "metadata": {},
   "source": [
    "## Q1: DataFrame Computation:\n",
    "You are given the following DataFrame `df`:  \n",
    "\n",
    "```python\n",
    "df = pd.DataFrame({\"Temperature\": [72, 85, 90, 78, 65], \"Humidity\": [40, 55, 60, 50, 35]})\n",
    "```\n",
    "\n",
    "- a) Compute the average temperature.  \n",
    "- b) Find the highest humidity recorded.  \n",
    "- c) Calculate the cumulative sum of both columns.  \n",
    "- d) Determine the difference between the maximum and minimum temperature.  "
   ]
  },
  {
   "cell_type": "code",
   "execution_count": 1,
   "metadata": {},
   "outputs": [
    {
     "name": "stdout",
     "output_type": "stream",
     "text": [
      "   Temperature  Humidity\n",
      "0           72        40\n",
      "1           85        55\n",
      "2           90        60\n",
      "3           78        50\n",
      "4           65        35\n",
      "78.0\n",
      "60\n",
      "   Temperature  Humidity\n",
      "0           72        40\n",
      "1          157        95\n",
      "2          247       155\n",
      "3          325       205\n",
      "4          390       240\n",
      "25\n"
     ]
    }
   ],
   "source": [
    "#     **Solution**\n",
    "# Type your solution here.\n",
    "import pandas as pd\n",
    "df = pd.DataFrame({\"Temperature\": [72, 85, 90, 78, 65], \"Humidity\": [40, 55, 60, 50, 35]})\n",
    "print(df)\n",
    "average_temp = df[\"Temperature\"].mean()\n",
    "print(average_temp)\n",
    "highest_humid = df[\"Humidity\"].max()\n",
    "print(highest_humid)\n",
    "cumulative = df.cumsum()\n",
    "print(cumulative)\n",
    "maxMinDiff = df[\"Temperature\"].max() - df[\"Temperature\"].min()\n",
    "print(maxMinDiff)\n",
    "\n",
    "\n"
   ]
  },
  {
   "cell_type": "markdown",
   "metadata": {},
   "source": [
    "## Q2: Sorting and Ranking: \n",
    "Consider the DataFrame `cities`:  \n",
    "```python\n",
    "cities = pd.DataFrame({\"City\": [\"New York\", \"Los Angeles\", \"Chicago\", \"Houston\"],  \n",
    "                       \"Population\": [8500000, 4000000, 2700000, 2300000],  \n",
    "                       \"Area\": [300, 500, 600, 700]})\n",
    "```\n",
    "- a) Sort the cities by population in descending order.  \n",
    "- b) Rank the cities based on area, with the largest getting rank 1.  \n",
    "- c) Sort the DataFrame by city names alphabetically. "
   ]
  },
  {
   "cell_type": "code",
   "execution_count": 8,
   "metadata": {},
   "outputs": [
    {
     "name": "stdout",
     "output_type": "stream",
     "text": [
      "          City  Population  Area\n",
      "0     New York     8500000   300\n",
      "1  Los Angeles     4000000   500\n",
      "2      Chicago     2700000   600\n",
      "3      Houston     2300000   700\n",
      "          City  Population  Area\n",
      "0     New York     8500000   300\n",
      "1  Los Angeles     4000000   500\n",
      "2      Chicago     2700000   600\n",
      "3      Houston     2300000   700\n",
      "0    4.0\n",
      "1    3.0\n",
      "2    2.0\n",
      "3    1.0\n",
      "Name: Area, dtype: float64\n",
      "          City  Population  Area\n",
      "2      Chicago     2700000   600\n",
      "3      Houston     2300000   700\n",
      "1  Los Angeles     4000000   500\n",
      "0     New York     8500000   300\n"
     ]
    }
   ],
   "source": [
    "#     **Solution**\n",
    "# Type your solution here.\n",
    "import pandas as pd\n",
    "cities = pd.DataFrame({\"City\": [\"New York\", \"Los Angeles\", \"Chicago\", \"Houston\"], \n",
    "                       \"Population\": [8500000, 4000000, 2700000, 2300000], \n",
    "                       \"Area\": [300, 500, 600, 700]})\n",
    "print(cities)\n",
    "print(cities.sort_values(\"Population\", ascending=False))\n",
    "print(cities[\"Area\"].rank(ascending=False))\n",
    "print(cities.sort_values(\"City\"))"
   ]
  },
  {
   "cell_type": "markdown",
   "metadata": {},
   "source": [
    "## Q3: Statistical Analysis: \n",
    "Given the following sales data:  \n",
    "```python\n",
    "sales = pd.DataFrame({\"Store\": [\"A\", \"B\", \"C\", \"D\", \"E\"],  \n",
    "                      \"Revenue\": [15000, 22000, 18000, 25000, 21000]})\n",
    "```\n",
    "- a) Compute the median revenue.  \n",
    "- b) Calculate the standard deviation of revenue.  \n",
    "- c) Find the interquartile range (IQR) of revenue. "
   ]
  },
  {
   "cell_type": "code",
   "execution_count": 16,
   "metadata": {},
   "outputs": [
    {
     "name": "stdout",
     "output_type": "stream",
     "text": [
      "  Store  Revenue\n",
      "0     A    15000\n",
      "1     B    22000\n",
      "2     C    18000\n",
      "3     D    25000\n",
      "4     E    21000\n",
      "21000.0\n",
      "3834.0579025361626\n",
      "4000.0\n"
     ]
    }
   ],
   "source": [
    "#     **Solution**\n",
    "# Type your solution here.\n",
    "import pandas as pd\n",
    "sales = pd.DataFrame({\"Store\": [\"A\", \"B\", \"C\", \"D\", \"E\"],\n",
    "                      \"Revenue\": [15000, 22000, 18000, 25000, 21000]}) \n",
    "print(sales)\n",
    "print(sales[\"Revenue\"].median())\n",
    "print(sales[\"Revenue\"].std())\n",
    "q1 = sales[\"Revenue\"].quantile(0.25)\n",
    "q3 = sales[\"Revenue\"].quantile(0.75)\n",
    "iqr = q3 - q1\n",
    "print(iqr)"
   ]
  },
  {
   "cell_type": "markdown",
   "metadata": {},
   "source": [
    "## Q4: Grouping and Aggregation: \n",
    "A company is analyzing employee salaries:  \n",
    "```python\n",
    "employees = pd.DataFrame({\"Department\": [\"Engineering\", \"Marketing\", \"Engineering\", \"HR\", \"Marketing\"],  \n",
    "                          \"Salary\": [80000, 60000, 90000, 50000, 65000]})\n",
    "```\n",
    "- a) Calculate the total salary expenditure for each department.  \n",
    "- b) Identify the department with the highest average salary.  \n",
    "- c) Compute the salary range (max - min) for each department.  "
   ]
  },
  {
   "cell_type": "code",
   "execution_count": 5,
   "metadata": {},
   "outputs": [
    {
     "name": "stdout",
     "output_type": "stream",
     "text": [
      "    Department  Salary\n",
      "0  Engineering   80000\n",
      "1    Marketing   60000\n",
      "2  Engineering   90000\n",
      "3           HR   50000\n",
      "4    Marketing   65000\n",
      "             Salary\n",
      "Department         \n",
      "Engineering  170000\n",
      "HR            50000\n",
      "Marketing    125000\n",
      "Salary    85000.0\n",
      "dtype: float64\n",
      "             Salary\n",
      "Department         \n",
      "Engineering   10000\n",
      "HR                0\n",
      "Marketing      5000\n"
     ]
    }
   ],
   "source": [
    "#     **Solution**\n",
    "# Type your solution here.\n",
    "import pandas as pd \n",
    "employees = pd.DataFrame({\"Department\": [\"Engineering\", \"Marketing\", \"Engineering\", \"HR\", \"Marketing\"], \n",
    "                          \"Salary\": [80000, 60000, 90000, 50000, 65000]})\n",
    "print(employees)\n",
    "print(employees.groupby(\"Department\").sum())\n",
    "avg_salary = employees.groupby(\"Department\").mean()\n",
    "print(avg_salary.max())\n",
    "max_salary = employees.groupby(\"Department\").max()\n",
    "min_salary = employees.groupby(\"Department\").min()\n",
    "salary_range = max_salary - min_salary\n",
    "print(salary_range)\n"
   ]
  },
  {
   "cell_type": "markdown",
   "metadata": {},
   "source": [
    "## Q5: Correlation and Covariance:**  \n",
    "A stock analyst is tracking two stocks over time:  \n",
    "```python\n",
    "dates = pd.date_range(\"2024-02-01\", periods=6)  \n",
    "stocks = pd.DataFrame({\"TSLA\": [200, 210, 215, 220, 230, 235],  \n",
    "                       \"AMZN\": [3000, 3100, 3150, 3200, 3300, 3400]}, index=dates)\n",
    "```\n",
    "- a) Calculate the correlation between TSLA and AMZN stock prices.  \n",
    "- b) Compute the covariance between TSLA and AMZN."
   ]
  },
  {
   "cell_type": "code",
   "execution_count": 12,
   "metadata": {},
   "outputs": [
    {
     "name": "stdout",
     "output_type": "stream",
     "text": [
      "0.9938586931957761\n",
      "1833.3333333333333\n"
     ]
    }
   ],
   "source": [
    "#     **Solution**\n",
    "# Type your solution here.\n",
    "dates = pd.date_range(\"2024-02-01\", periods=6)\n",
    "stocks = pd.DataFrame({\"TSLA\": [200, 210, 215, 220, 230, 235],\n",
    "                       \"AMZN\": [3000, 3100, 3150, 3200, 3300, 3400]}, index=dates)\n",
    "print(stocks[\"TSLA\"].corr(stocks[\"AMZN\"]))\n",
    "print(stocks[\"TSLA\"].cov(stocks[\"AMZN\"]))"
   ]
  },
  {
   "cell_type": "markdown",
   "metadata": {},
   "source": [
    "## Q6: Unique Values, Frequency, and Membership: \n",
    "You have the following dataset of fruit sales:  \n",
    "```python\n",
    "fruits = pd.Series([\"apple\", \"banana\", \"apple\", \"grape\", \"banana\", \"apple\", \"kiwi\", \"orange\", \"kiwi\"])\n",
    "```\n",
    "- a) Find the unique fruit names in the dataset.  \n",
    "- b) Count the occurrences of each fruit.  \n",
    "- c) Check if \"grape\" exists in the dataset. "
   ]
  },
  {
   "cell_type": "code",
   "execution_count": 15,
   "metadata": {},
   "outputs": [
    {
     "name": "stdout",
     "output_type": "stream",
     "text": [
      "['apple' 'banana' 'grape' 'kiwi' 'orange']\n",
      "apple     3\n",
      "banana    2\n",
      "kiwi      2\n",
      "grape     1\n",
      "orange    1\n",
      "Name: count, dtype: int64\n",
      "0    False\n",
      "1    False\n",
      "2    False\n",
      "3    False\n",
      "4    False\n",
      "5    False\n",
      "6    False\n",
      "7    False\n",
      "8    False\n",
      "dtype: bool\n"
     ]
    }
   ],
   "source": [
    "#     **Solution**\n",
    "# Type your solution here.\n",
    "import pandas as pd\n",
    "fruits = pd.Series([\"apple\", \"banana\", \"apple\", \"grape\", \"banana\", \"apple\", \"kiwi\", \"orange\", \"kiwi\"])\n",
    "uniques = fruits.unique()\n",
    "print(uniques)\n",
    "counts = fruits.value_counts()\n",
    "print(counts)\n",
    "mask = fruits.isin([\"grapes\"])\n",
    "print(mask)"
   ]
  },
  {
   "cell_type": "markdown",
   "metadata": {},
   "source": [
    "## Q7: Handling Missing Data:\n",
    "A weather station records temperature data, but some values are missing:  \n",
    "```python\n",
    "weather = pd.DataFrame({\"Day\": [\"Mon\", \"Tue\", \"Wed\", \"Thu\", \"Fri\"],  \n",
    "                        \"Temperature\": [68, np.nan, 75, np.nan, 80]})\n",
    "```\n",
    "- a) Fill the missing temperatures with the column mean.  \n",
    "- b) Remove any rows with missing data.  \n",
    "- c) Replace missing values with the median temperature instead. "
   ]
  },
  {
   "cell_type": "code",
   "execution_count": 17,
   "metadata": {},
   "outputs": [
    {
     "data": {
      "text/html": [
       "<div>\n",
       "<style scoped>\n",
       "    .dataframe tbody tr th:only-of-type {\n",
       "        vertical-align: middle;\n",
       "    }\n",
       "\n",
       "    .dataframe tbody tr th {\n",
       "        vertical-align: top;\n",
       "    }\n",
       "\n",
       "    .dataframe thead th {\n",
       "        text-align: right;\n",
       "    }\n",
       "</style>\n",
       "<table border=\"1\" class=\"dataframe\">\n",
       "  <thead>\n",
       "    <tr style=\"text-align: right;\">\n",
       "      <th></th>\n",
       "      <th>Day</th>\n",
       "      <th>Temperature</th>\n",
       "    </tr>\n",
       "  </thead>\n",
       "  <tbody>\n",
       "    <tr>\n",
       "      <th>0</th>\n",
       "      <td>Mon</td>\n",
       "      <td>68.0</td>\n",
       "    </tr>\n",
       "    <tr>\n",
       "      <th>1</th>\n",
       "      <td>Tue</td>\n",
       "      <td>75.0</td>\n",
       "    </tr>\n",
       "    <tr>\n",
       "      <th>2</th>\n",
       "      <td>Wed</td>\n",
       "      <td>75.0</td>\n",
       "    </tr>\n",
       "    <tr>\n",
       "      <th>3</th>\n",
       "      <td>Thu</td>\n",
       "      <td>75.0</td>\n",
       "    </tr>\n",
       "    <tr>\n",
       "      <th>4</th>\n",
       "      <td>Fri</td>\n",
       "      <td>80.0</td>\n",
       "    </tr>\n",
       "  </tbody>\n",
       "</table>\n",
       "</div>"
      ],
      "text/plain": [
       "   Day  Temperature\n",
       "0  Mon         68.0\n",
       "1  Tue         75.0\n",
       "2  Wed         75.0\n",
       "3  Thu         75.0\n",
       "4  Fri         80.0"
      ]
     },
     "execution_count": 17,
     "metadata": {},
     "output_type": "execute_result"
    }
   ],
   "source": [
    "#     **Solution**\n",
    "# Type your solution here.\n",
    "import pandas as pd\n",
    "import numpy as np\n",
    "weather = pd.DataFrame({\"Day\": [\"Mon\", \"Tue\", \"Wed\", \"Thu\", \"Fri\"],\n",
    "                        \"Temperature\": [68, np.nan, 75, np.nan, 80]})\n",
    "weather.fillna(value=weather[\"Temperature\"].mean())\n",
    "weather.dropna()\n",
    "weather.fillna(weather[\"Temperature\"].median())"
   ]
  }
 ],
 "metadata": {
  "kernelspec": {
   "display_name": "Python 3",
   "language": "python",
   "name": "python3"
  },
  "language_info": {
   "codemirror_mode": {
    "name": "ipython",
    "version": 3
   },
   "file_extension": ".py",
   "mimetype": "text/x-python",
   "name": "python",
   "nbconvert_exporter": "python",
   "pygments_lexer": "ipython3",
   "version": "3.12.1"
  }
 },
 "nbformat": 4,
 "nbformat_minor": 2
}
