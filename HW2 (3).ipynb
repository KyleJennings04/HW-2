{
 "cells": [
  {
   "cell_type": "markdown",
   "metadata": {},
   "source": [
    "# Intro to Data Science - Homework 2 - Spring 2025 - Wilmington College\n",
    "## Due Date: February 21, 2025"
   ]
  },
  {
   "cell_type": "markdown",
   "metadata": {},
   "source": [
    "## Q1: DataFrame Computation:\n",
    "You are given the following DataFrame `df`:  \n",
    "\n",
    "```python\n",
    "df = pd.DataFrame({\"Temperature\": [72, 85, 90, 78, 65], \"Humidity\": [40, 55, 60, 50, 35]})\n",
    "```\n",
    "\n",
    "- a) Compute the average temperature.  \n",
    "- b) Find the highest humidity recorded.  \n",
    "- c) Calculate the cumulative sum of both columns.  \n",
    "- d) Determine the difference between the maximum and minimum temperature.  "
   ]
  },
  {
   "cell_type": "code",
   "execution_count": 1,
   "metadata": {},
   "outputs": [],
   "source": [
    "#     **Solution**\n",
    "# Type your solution here."
   ]
  },
  {
   "cell_type": "markdown",
   "metadata": {},
   "source": [
    "## Q2: Sorting and Ranking: \n",
    "Consider the DataFrame `cities`:  \n",
    "```python\n",
    "cities = pd.DataFrame({\"City\": [\"New York\", \"Los Angeles\", \"Chicago\", \"Houston\"],  \n",
    "                       \"Population\": [8500000, 4000000, 2700000, 2300000],  \n",
    "                       \"Area\": [300, 500, 600, 700]})\n",
    "```\n",
    "- a) Sort the cities by population in descending order.  \n",
    "- b) Rank the cities based on area, with the largest getting rank 1.  \n",
    "- c) Sort the DataFrame by city names alphabetically. "
   ]
  },
  {
   "cell_type": "code",
   "execution_count": 2,
   "metadata": {},
   "outputs": [],
   "source": [
    "#     **Solution**\n",
    "# Type your solution here."
   ]
  },
  {
   "cell_type": "markdown",
   "metadata": {},
   "source": [
    "## Q3: Statistical Analysis: \n",
    "Given the following sales data:  \n",
    "```python\n",
    "sales = pd.DataFrame({\"Store\": [\"A\", \"B\", \"C\", \"D\", \"E\"],  \n",
    "                      \"Revenue\": [15000, 22000, 18000, 25000, 21000]})\n",
    "```\n",
    "- a) Compute the median revenue.  \n",
    "- b) Calculate the standard deviation of revenue.  \n",
    "- c) Find the interquartile range (IQR) of revenue. "
   ]
  },
  {
   "cell_type": "code",
   "execution_count": 3,
   "metadata": {},
   "outputs": [],
   "source": [
    "#     **Solution**\n",
    "# Type your solution here."
   ]
  },
  {
   "cell_type": "markdown",
   "metadata": {},
   "source": [
    "## Q4: Grouping and Aggregation: \n",
    "A company is analyzing employee salaries:  \n",
    "```python\n",
    "employees = pd.DataFrame({\"Department\": [\"Engineering\", \"Marketing\", \"Engineering\", \"HR\", \"Marketing\"],  \n",
    "                          \"Salary\": [80000, 60000, 90000, 50000, 65000]})\n",
    "```\n",
    "- a) Calculate the total salary expenditure for each department.  \n",
    "- b) Identify the department with the highest average salary.  \n",
    "- c) Compute the salary range (max - min) for each department.  "
   ]
  },
  {
   "cell_type": "code",
   "execution_count": 4,
   "metadata": {},
   "outputs": [],
   "source": [
    "#     **Solution**\n",
    "# Type your solution here."
   ]
  },
  {
   "cell_type": "markdown",
   "metadata": {},
   "source": [
    "## Q5: Correlation and Covariance:**  \n",
    "A stock analyst is tracking two stocks over time:  \n",
    "```python\n",
    "dates = pd.date_range(\"2024-02-01\", periods=6)  \n",
    "stocks = pd.DataFrame({\"TSLA\": [200, 210, 215, 220, 230, 235],  \n",
    "                       \"AMZN\": [3000, 3100, 3150, 3200, 3300, 3400]}, index=dates)\n",
    "```\n",
    "- a) Calculate the correlation between TSLA and AMZN stock prices.  \n",
    "- b) Compute the covariance between TSLA and AMZN."
   ]
  },
  {
   "cell_type": "code",
   "execution_count": 5,
   "metadata": {},
   "outputs": [],
   "source": [
    "#     **Solution**\n",
    "# Type your solution here."
   ]
  },
  {
   "cell_type": "markdown",
   "metadata": {},
   "source": [
    "## Q6: Unique Values, Frequency, and Membership: \n",
    "You have the following dataset of fruit sales:  \n",
    "```python\n",
    "fruits = pd.Series([\"apple\", \"banana\", \"apple\", \"grape\", \"banana\", \"apple\", \"kiwi\", \"orange\", \"kiwi\"])\n",
    "```\n",
    "- a) Find the unique fruit names in the dataset.  \n",
    "- b) Count the occurrences of each fruit.  \n",
    "- c) Check if \"grape\" exists in the dataset. "
   ]
  },
  {
   "cell_type": "code",
   "execution_count": 6,
   "metadata": {},
   "outputs": [],
   "source": [
    "#     **Solution**\n",
    "# Type your solution here."
   ]
  },
  {
   "cell_type": "markdown",
   "metadata": {},
   "source": [
    "## Q7: Handling Missing Data:\n",
    "A weather station records temperature data, but some values are missing:  \n",
    "```python\n",
    "weather = pd.DataFrame({\"Day\": [\"Mon\", \"Tue\", \"Wed\", \"Thu\", \"Fri\"],  \n",
    "                        \"Temperature\": [68, np.nan, 75, np.nan, 80]})\n",
    "```\n",
    "- a) Fill the missing temperatures with the column mean.  \n",
    "- b) Remove any rows with missing data.  \n",
    "- c) Replace missing values with the median temperature instead. "
   ]
  },
  {
   "cell_type": "code",
   "execution_count": 7,
   "metadata": {},
   "outputs": [],
   "source": [
    "#     **Solution**\n",
    "# Type your solution here."
   ]
  },
  {
   "cell_type": "code",
   "execution_count": null,
   "metadata": {},
   "outputs": [],
   "source": []
  }
 ],
 "metadata": {
  "kernelspec": {
   "display_name": "Python 3",
   "language": "python",
   "name": "python3"
  },
  "language_info": {
   "codemirror_mode": {
    "name": "ipython",
    "version": 3
   },
   "file_extension": ".py",
   "mimetype": "text/x-python",
   "name": "python",
   "nbconvert_exporter": "python",
   "pygments_lexer": "ipython3",
   "version": "3.12.1"
  }
 },
 "nbformat": 4,
 "nbformat_minor": 2
}
